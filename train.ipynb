{
 "cells": [
  {
   "cell_type": "markdown",
   "metadata": {
    "id": "g3D2bl3sFu61"
   },
   "source": [
    "# Train\n",
    "\n",
    "This file is used to train the networks. While training, we save a checkpoint file after each epoch of training which contains the model's parameters, the optimizer's parameters, the average loss over the epoch, and the average validation dice score. Using this approach, we can then later plot learning curves and restart training from any checkpoint.\n"
   ]
  },
  {
   "cell_type": "code",
   "execution_count": 1,
   "metadata": {
    "colab": {
     "base_uri": "https://localhost:8080/"
    },
    "executionInfo": {
     "elapsed": 1108,
     "status": "ok",
     "timestamp": 1606739675372,
     "user": {
      "displayName": "Samuel Neumann",
      "photoUrl": "https://lh5.googleusercontent.com/-z8wyXRO6t2s/AAAAAAAAAAI/AAAAAAAAAFo/8QmqQMCE81s/s64/photo.jpg",
      "userId": "04715188440909920115"
     },
     "user_tz": 420
    },
    "id": "JPpXGiGeHhxw",
    "outputId": "31fd876d-8f74-41c7-d270-78b54c10313a"
   },
   "outputs": [
    {
     "name": "stdout",
     "output_type": "stream",
     "text": [
      "Drive already mounted at /content/drive; to attempt to forcibly remount, call drive.mount(\"/content/drive\", force_remount=True).\n"
     ]
    }
   ],
   "source": [
    "from google.colab import drive\n",
    "drive.mount('/content/drive')"
   ]
  },
  {
   "cell_type": "code",
   "execution_count": 2,
   "metadata": {
    "colab": {
     "base_uri": "https://localhost:8080/"
    },
    "executionInfo": {
     "elapsed": 4471,
     "status": "ok",
     "timestamp": 1606739678747,
     "user": {
      "displayName": "Samuel Neumann",
      "photoUrl": "https://lh5.googleusercontent.com/-z8wyXRO6t2s/AAAAAAAAAAI/AAAAAAAAAFo/8QmqQMCE81s/s64/photo.jpg",
      "userId": "04715188440909920115"
     },
     "user_tz": 420
    },
    "id": "gtXppSNeJN3O",
    "outputId": "0a17a4d6-6f1a-4171-b8f0-8ffa8fd144be"
   },
   "outputs": [
    {
     "name": "stdout",
     "output_type": "stream",
     "text": [
      "Requirement already satisfied: pytorch-msssim in /usr/local/lib/python3.6/dist-packages (0.2.1)\n",
      "Requirement already satisfied: torch in /usr/local/lib/python3.6/dist-packages (from pytorch-msssim) (1.7.0+cu101)\n",
      "Requirement already satisfied: future in /usr/local/lib/python3.6/dist-packages (from torch->pytorch-msssim) (0.16.0)\n",
      "Requirement already satisfied: numpy in /usr/local/lib/python3.6/dist-packages (from torch->pytorch-msssim) (1.18.5)\n",
      "Requirement already satisfied: typing-extensions in /usr/local/lib/python3.6/dist-packages (from torch->pytorch-msssim) (3.7.4.3)\n",
      "Requirement already satisfied: dataclasses in /usr/local/lib/python3.6/dist-packages (from torch->pytorch-msssim) (0.8)\n"
     ]
    }
   ],
   "source": [
    "!pip install pytorch-msssim"
   ]
  },
  {
   "cell_type": "code",
   "execution_count": 3,
   "metadata": {
    "executionInfo": {
     "elapsed": 4464,
     "status": "ok",
     "timestamp": 1606739678748,
     "user": {
      "displayName": "Samuel Neumann",
      "photoUrl": "https://lh5.googleusercontent.com/-z8wyXRO6t2s/AAAAAAAAAAI/AAAAAAAAAFo/8QmqQMCE81s/s64/photo.jpg",
      "userId": "04715188440909920115"
     },
     "user_tz": 420
    },
    "id": "vt2__ji3G-Rp"
   },
   "outputs": [],
   "source": [
    "# Import Modules\n",
    "import sys\n",
    "sys.path.insert(1, \"/content/drive/My Drive/CMPUT511/Project/Code/RFDN\")\n",
    "\n",
    "import train\n",
    "from RFDN import RFDN, RFDN1\n",
    "from BaseN import BaseN"
   ]
  },
  {
   "cell_type": "markdown",
   "metadata": {
    "id": "p9NmXpapF0gF"
   },
   "source": [
    "## Training Loop\n",
    "\n",
    "The cells below contain the training loop. The trainer object will take in the checkpoint file, data containing directory, learning rate, and model number. It will then train the network, checkpointing and saving in the same directory that contains the argument checkpoint file. Additionally, the trainer can load in the checkpoint file and resume training.\n",
    "\n",
    "To train our networks, we use the mean $L_1$ loss, as specified in the RFDN paper:\n",
    "$$\n",
    "    \\mathcal{L}(\\theta) = \\frac{1}{N} \\sum\\limits_{i=1}^{N} || H(I_{i}^{LR}) - I_{i}^{HR} ||_{1}\n",
    "$$\n",
    "where $H$ is the hypothesis of the model being trained, $I_{i}^{LR}$ is the $i^{th}$ pixel of the low-resolution image, $I_{i}^{HR}$ is the $i^{th}$ pixel of the high resolution imgae, $\\theta$ are the model parameters, $N$ is the number of pixels in the image, and $|| \\cdot ||_1$ is the $L_1$ norm.\n",
    "\n",
    "The creation and optimization of this loss function is taken care of by the Trainer class. Additionally, we use the Adam optimizer for training, which is also created and maintained by the Trainer class."
   ]
  },
  {
   "cell_type": "markdown",
   "metadata": {
    "id": "fizKCaQZF5hf"
   },
   "source": [
    "### Preliminaries\n",
    "\n",
    "In the next cell, we set up some preliminary variables."
   ]
  },
  {
   "cell_type": "code",
   "execution_count": 4,
   "metadata": {
    "executionInfo": {
     "elapsed": 4458,
     "status": "ok",
     "timestamp": 1606739678749,
     "user": {
      "displayName": "Samuel Neumann",
      "photoUrl": "https://lh5.googleusercontent.com/-z8wyXRO6t2s/AAAAAAAAAAI/AAAAAAAAAFo/8QmqQMCE81s/s64/photo.jpg",
      "userId": "04715188440909920115"
     },
     "user_tz": 420
    },
    "id": "6hOtwIYnF-JJ"
   },
   "outputs": [],
   "source": [
    "# Directory containing the data\n",
    "data_dir = \"/content/drive/My Drive/CMPUT511/Project/Data\"\n",
    "\n",
    "# Checkpoint file to save\n",
    "checkpoint_file = \"/content/drive/My Drive/CMPUT511/Project/Checkpoints/checkpoint.tar\"\n",
    "\n",
    "# Number of training epochs\n",
    "epochs = 1\n",
    "\n",
    "# Whether or not to load the checkpoint file specified above \n",
    "load = False\n",
    "\n",
    "# Model number; used to train multiple models while naming checkpoint files sequentially to ensure checkpoint files are not overwritten\n",
    "model_num=0\n",
    "\n",
    "# Learning rate and division constant\n",
    "lr = 1e-4\n",
    "div = 1.005\n",
    "\n",
    "# Upscaling factor\n",
    "upscale = 2"
   ]
  },
  {
   "cell_type": "markdown",
   "metadata": {
    "id": "fzZ78UiyGGY5"
   },
   "source": [
    "### Model choice\n",
    "\n",
    "In the cell below, we can choose which model to train. Simply uncomment the line of the model that should be trained, leaving all other lines commented."
   ]
  },
  {
   "cell_type": "code",
   "execution_count": 5,
   "metadata": {
    "executionInfo": {
     "elapsed": 4452,
     "status": "ok",
     "timestamp": 1606739678749,
     "user": {
      "displayName": "Samuel Neumann",
      "photoUrl": "https://lh5.googleusercontent.com/-z8wyXRO6t2s/AAAAAAAAAAI/AAAAAAAAAFo/8QmqQMCE81s/s64/photo.jpg",
      "userId": "04715188440909920115"
     },
     "user_tz": 420
    },
    "id": "wU6yTBZNGKSl"
   },
   "outputs": [],
   "source": [
    "model = RFDN1(nf=10, upscale=upscale)\n",
    "# model = RFDN(nf=10, upscale=upscale)\n",
    "# model = RFDN2(nf=10, upscale=upscale)\n",
    "# model = BaseN(nf=10, upscale=upscale)\n",
    "# model = FDCN(nf=10, upscale=upscale)"
   ]
  },
  {
   "cell_type": "markdown",
   "metadata": {
    "id": "UZJPdbmaGWzv"
   },
   "source": [
    "### Train\n",
    "\n",
    "In the following two cells, we create the Trainer object and begin training. The Trainer will attempt to minimize the mean $L_1$ loss using the Adam optimizer.  "
   ]
  },
  {
   "cell_type": "code",
   "execution_count": 6,
   "metadata": {
    "executionInfo": {
     "elapsed": 9248,
     "status": "ok",
     "timestamp": 1606739683552,
     "user": {
      "displayName": "Samuel Neumann",
      "photoUrl": "https://lh5.googleusercontent.com/-z8wyXRO6t2s/AAAAAAAAAAI/AAAAAAAAAFo/8QmqQMCE81s/s64/photo.jpg",
      "userId": "04715188440909920115"
     },
     "user_tz": 420
    },
    "id": "0BjH7reIGbK2"
   },
   "outputs": [],
   "source": [
    "trainer = train.Trainer(model, checkpoint_file, data_dir, lr=lr, div=div, num=model_num)"
   ]
  },
  {
   "cell_type": "code",
   "execution_count": 7,
   "metadata": {
    "colab": {
     "base_uri": "https://localhost:8080/"
    },
    "executionInfo": {
     "elapsed": 3790488,
     "status": "ok",
     "timestamp": 1606743464799,
     "user": {
      "displayName": "Samuel Neumann",
      "photoUrl": "https://lh5.googleusercontent.com/-z8wyXRO6t2s/AAAAAAAAAAI/AAAAAAAAAFo/8QmqQMCE81s/s64/photo.jpg",
      "userId": "04715188440909920115"
     },
     "user_tz": 420
    },
    "id": "7TuDao2-Q-Ry",
    "outputId": "bd5825a0-a3db-4701-d9bb-92fbedd45b1b"
   },
   "outputs": [
    {
     "name": "stderr",
     "output_type": "stream",
     "text": [
      "100%|██████████| 800/800 [57:04<00:00,  4.28s/it]\n"
     ]
    }
   ],
   "source": [
    "trainer.train(epochs, load=load)"
   ]
  }
 ],
 "metadata": {
  "accelerator": "GPU",
  "colab": {
   "collapsed_sections": [],
   "name": "train.ipynb",
   "provenance": []
  },
  "kernelspec": {
   "display_name": "Python 3",
   "language": "python",
   "name": "python3"
  },
  "language_info": {
   "codemirror_mode": {
    "name": "ipython",
    "version": 3
   },
   "file_extension": ".py",
   "mimetype": "text/x-python",
   "name": "python",
   "nbconvert_exporter": "python",
   "pygments_lexer": "ipython3",
   "version": "3.8.6"
  }
 },
 "nbformat": 4,
 "nbformat_minor": 1
}