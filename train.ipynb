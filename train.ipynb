{
 "metadata": {
  "language_info": {
   "codemirror_mode": {
    "name": "ipython",
    "version": 3
   },
   "file_extension": ".py",
   "mimetype": "text/x-python",
   "name": "python",
   "nbconvert_exporter": "python",
   "pygments_lexer": "ipython3",
   "version": "3.8.6-final"
  },
  "orig_nbformat": 2,
  "kernelspec": {
   "name": "python38264bit783e9ce075cd40329148adbd3d4f11dd",
   "display_name": "Python 3.8.2 64-bit"
  }
 },
 "nbformat": 4,
 "nbformat_minor": 2,
 "cells": [
  {
   "cell_type": "code",
   "execution_count": 1,
   "metadata": {},
   "outputs": [],
   "source": [
    "# Import Modules\n",
    "import pickle\n",
    "import os\n",
    "from tqdm import tqdm\n",
    "import utils_logger\n",
    "import utils_image as util\n",
    "from RFDN import RFDN, RFDN2, RFDN1\n",
    "import gc\n",
    "import torch\n",
    "import train"
   ]
  },
  {
   "cell_type": "code",
   "execution_count": 2,
   "metadata": {},
   "outputs": [
    {
     "output_type": "stream",
     "name": "stderr",
     "text": [
      "  0%|          | 0/800 [00:00<?, ?it/s]Loading checkpoint on epoch 36\n",
      "100%|██████████| 800/800 [08:28<00:00,  1.57it/s]\n",
      "100%|██████████| 800/800 [08:25<00:00,  1.58it/s]\n",
      "100%|██████████| 800/800 [08:27<00:00,  1.58it/s]\n",
      "100%|██████████| 800/800 [08:24<00:00,  1.59it/s]\n"
     ]
    }
   ],
   "source": [
    "model = RFDN(nf=10, upscale=2)\n",
    "data_dir = \"/home/samuel/Documents/CMPUT511/Project/Data\"\n",
    "checkpoint_file = \"/home/samuel/Documents/CMPUT511/Project/Checkpoints/checkpoint_36.tar\"\n",
    "trainer = train.Trainer(model, checkpoint_file, data_dir)\n",
    "trainer.train(4, load=True)"
   ]
  }
 ]
}