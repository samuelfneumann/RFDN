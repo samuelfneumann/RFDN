{
 "metadata": {
  "language_info": {
   "codemirror_mode": {
    "name": "ipython",
    "version": 3
   },
   "file_extension": ".py",
   "mimetype": "text/x-python",
   "name": "python",
   "nbconvert_exporter": "python",
   "pygments_lexer": "ipython3",
   "version": "3.8.6-final"
  },
  "orig_nbformat": 2,
  "kernelspec": {
   "name": "python38264bit783e9ce075cd40329148adbd3d4f11dd",
   "display_name": "Python 3.8.2 64-bit"
  }
 },
 "nbformat": 4,
 "nbformat_minor": 2,
 "cells": [
  {
   "cell_type": "code",
   "execution_count": 1,
   "metadata": {},
   "outputs": [],
   "source": [
    "# Import Modules\n",
    "import pickle\n",
    "import os\n",
    "from tqdm import tqdm\n",
    "import utils_logger\n",
    "import utils_image as util\n",
    "from RFDN import RFDN, RFDN1\n",
    "from FDCN import FDCN\n",
    "from SRN import SRN\n",
    "from BaseN import BaseN\n",
    "import gc\n",
    "import torch\n",
    "import train"
   ]
  },
  {
   "cell_type": "code",
   "execution_count": 2,
   "metadata": {},
   "outputs": [
    {
     "output_type": "stream",
     "name": "stderr",
     "text": [
      "  0%|          | 0/800 [00:00<?, ?it/s]Loading checkpoint on epoch 12\n",
      "100%|██████████| 800/800 [08:24<00:00,  1.59it/s]\n",
      "100%|██████████| 800/800 [07:54<00:00,  1.69it/s]\n",
      "100%|██████████| 800/800 [07:54<00:00,  1.69it/s]\n",
      "100%|██████████| 800/800 [07:54<00:00,  1.69it/s]\n",
      "100%|██████████| 800/800 [07:54<00:00,  1.68it/s]\n",
      "100%|██████████| 800/800 [07:54<00:00,  1.69it/s]\n",
      "100%|██████████| 800/800 [07:54<00:00,  1.68it/s]\n",
      "100%|██████████| 800/800 [07:55<00:00,  1.68it/s]\n",
      "100%|██████████| 800/800 [07:54<00:00,  1.68it/s]\n",
      "100%|██████████| 800/800 [07:55<00:00,  1.68it/s]\n",
      "100%|██████████| 800/800 [07:54<00:00,  1.68it/s]\n",
      "100%|██████████| 800/800 [07:55<00:00,  1.68it/s]\n",
      "100%|██████████| 800/800 [07:55<00:00,  1.68it/s]\n",
      "100%|██████████| 800/800 [07:55<00:00,  1.68it/s]\n",
      "100%|██████████| 800/800 [08:06<00:00,  1.64it/s]\n",
      "100%|██████████| 800/800 [08:08<00:00,  1.64it/s]\n",
      "100%|██████████| 800/800 [07:55<00:00,  1.68it/s]\n",
      "100%|██████████| 800/800 [07:55<00:00,  1.68it/s]\n",
      "100%|██████████| 800/800 [07:55<00:00,  1.68it/s]\n",
      "100%|██████████| 800/800 [07:55<00:00,  1.68it/s]\n",
      "100%|██████████| 800/800 [07:55<00:00,  1.68it/s]\n",
      "100%|██████████| 800/800 [07:55<00:00,  1.68it/s]\n",
      "100%|██████████| 800/800 [07:55<00:00,  1.68it/s]\n",
      "100%|██████████| 800/800 [07:55<00:00,  1.68it/s]\n",
      "100%|██████████| 800/800 [07:55<00:00,  1.68it/s]\n",
      "100%|██████████| 800/800 [07:55<00:00,  1.68it/s]\n",
      "100%|██████████| 800/800 [07:55<00:00,  1.68it/s]\n",
      "100%|██████████| 800/800 [07:55<00:00,  1.68it/s]\n"
     ]
    }
   ],
   "source": [
    "model = RFDN(nf=10, upscale=2)\n",
    "# model = FDCN(nf=10, upscale=2)\n",
    "# model = SRN(nf=10, upscale=2)\n",
    "# model = BaseN(nf=10, upscale=2)\n",
    "# model = RFDN1(nf=10, upscale=2)\n",
    "data_dir = \"/home/samuel/Documents/CMPUT511/Project/Data\"\n",
    "checkpoint_file = \"/home/samuel/Documents/CMPUT511/Project/Checkpoints/checkpoint_0_12.tar\"\n",
    "trainer = train.Trainer(model, checkpoint_file, data_dir, lr=1e-2, div=1.1, num=0)\n",
    "trainer.train(28, load=True)\n"
   ]
  },
  {
   "cell_type": "code",
   "execution_count": 4,
   "metadata": {},
   "outputs": [],
   "source": [
    "# model = RFDN1(nf=10, upscale=2)\n",
    "# trainer = train.Trainer(model, checkpoint_file, data_dir, lr=1e-2, div=1.005, num=2)\n",
    "# trainer.train(40, load=True)"
   ]
  },
  {
   "cell_type": "code",
   "execution_count": 3,
   "metadata": {},
   "outputs": [
    {
     "output_type": "execute_result",
     "data": {
      "text/plain": [
       "CompletedProcess(args=['poweroff'], returncode=0)"
      ]
     },
     "metadata": {},
     "execution_count": 3
    }
   ],
   "source": [
    "import subprocess\n",
    "# import time\n",
    "# time.sleep(3600 * 2.75)\n",
    "subprocess.run([\"poweroff\"])"
   ]
  }
 ]
}