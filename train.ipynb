{
 "metadata": {
  "language_info": {
   "codemirror_mode": {
    "name": "ipython",
    "version": 3
   },
   "file_extension": ".py",
   "mimetype": "text/x-python",
   "name": "python",
   "nbconvert_exporter": "python",
   "pygments_lexer": "ipython3",
   "version": "3.8.6-final"
  },
  "orig_nbformat": 2,
  "kernelspec": {
   "name": "python38264bit783e9ce075cd40329148adbd3d4f11dd",
   "display_name": "Python 3.8.2 64-bit"
  }
 },
 "nbformat": 4,
 "nbformat_minor": 2,
 "cells": [
  {
   "cell_type": "code",
   "execution_count": 1,
   "metadata": {},
   "outputs": [],
   "source": [
    "# Import Modules\n",
    "import pickle\n",
    "import os\n",
    "from tqdm import tqdm\n",
    "import utils_logger\n",
    "import utils_image as util\n",
    "from RFDN import RFDN, RFDN2, RFDN1\n",
    "from FDCN import FDCN\n",
    "from SRN import SRN\n",
    "from BaseN import BaseN\n",
    "import gc\n",
    "import torch\n",
    "import train"
   ]
  },
  {
   "cell_type": "code",
   "execution_count": 2,
   "metadata": {},
   "outputs": [
    {
     "output_type": "stream",
     "name": "stderr",
     "text": [
      "  0%|          | 0/800 [00:00<?, ?it/s]Loading checkpoint on epoch 41\n",
      "100%|██████████| 800/800 [05:51<00:00,  2.28it/s]\n"
     ]
    }
   ],
   "source": [
    "# model = RFDN(nf=10, upscale=2)\n",
    "# model = FDCN(nf=10, upscale=2)\n",
    "# model = SRN(nf=10, upscale=2)\n",
    "# model = BaseN(nf=10, upscale=2)\n",
    "model = RFDN1(nf=10, upscale=2)\n",
    "data_dir = \"/home/samuel/Documents/CMPUT511/Project/Data\"\n",
    "checkpoint_file = \"/home/samuel/Documents/CMPUT511/Project/Checkpoints/checkpoint_42.tar\"\n",
    "trainer = train.Trainer(model, checkpoint_file, data_dir, lr=1e-2, div=1.005)\n",
    "trainer.train(1, load=True)"
   ]
  },
  {
   "cell_type": "code",
   "execution_count": 3,
   "metadata": {},
   "outputs": [],
   "source": [
    "# import subprocess\n",
    "# subprocess.run([\"poweroff\"])"
   ]
  }
 ]
}