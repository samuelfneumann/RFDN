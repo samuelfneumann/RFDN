{
 "cells": [
  {
   "cell_type": "markdown",
   "metadata": {},
   "source": [
    "# Train\n",
    "\n",
    "This file is used to train the networks. While training, we save a checkpoint file after each epoch of training which contains the model's parameters, the optimizer's parameters, the average loss over the epoch, and the average validation dice score. Using this approach, we can then later plot learning curves and restart training from any checkpoint."
   ]
  },
  {
   "cell_type": "code",
   "execution_count": 1,
   "metadata": {
    "colab": {
     "base_uri": "https://localhost:8080/"
    },
    "executionInfo": {
     "elapsed": 22315,
     "status": "ok",
     "timestamp": 1605702194593,
     "user": {
      "displayName": "Samuel Neumann",
      "photoUrl": "https://lh5.googleusercontent.com/-z8wyXRO6t2s/AAAAAAAAAAI/AAAAAAAAAFo/8QmqQMCE81s/s64/photo.jpg",
      "userId": "04715188440909920115"
     },
     "user_tz": 420
    },
    "id": "JPpXGiGeHhxw",
    "outputId": "d9cd6336-a636-4a04-d86c-bb7601866dc2"
   },
   "outputs": [
    {
     "name": "stdout",
     "output_type": "stream",
     "text": [
      "Mounted at /content/drive\n"
     ]
    }
   ],
   "source": [
    "from google.colab import drive\n",
    "drive.mount('/content/drive')"
   ]
  },
  {
   "cell_type": "code",
   "execution_count": null,
   "metadata": {},
   "outputs": [],
   "source": [
    "### Install dependencies if needed and import modules "
   ]
  },
  {
   "cell_type": "code",
   "execution_count": 2,
   "metadata": {
    "colab": {
     "base_uri": "https://localhost:8080/"
    },
    "executionInfo": {
     "elapsed": 25973,
     "status": "ok",
     "timestamp": 1605702198269,
     "user": {
      "displayName": "Samuel Neumann",
      "photoUrl": "https://lh5.googleusercontent.com/-z8wyXRO6t2s/AAAAAAAAAAI/AAAAAAAAAFo/8QmqQMCE81s/s64/photo.jpg",
      "userId": "04715188440909920115"
     },
     "user_tz": 420
    },
    "id": "gtXppSNeJN3O",
    "outputId": "ea39810c-5edf-4217-d0a6-e4c7afa7247e"
   },
   "outputs": [
    {
     "name": "stdout",
     "output_type": "stream",
     "text": [
      "Collecting pytorch-msssim\n",
      "  Downloading https://files.pythonhosted.org/packages/9d/d3/3cb0f397232cf79e1762323c3a8862e39ad53eca0bb5f6be9ccc8e7c070e/pytorch_msssim-0.2.1-py3-none-any.whl\n",
      "Requirement already satisfied: torch in /usr/local/lib/python3.6/dist-packages (from pytorch-msssim) (1.7.0+cu101)\n",
      "Requirement already satisfied: numpy in /usr/local/lib/python3.6/dist-packages (from torch->pytorch-msssim) (1.18.5)\n",
      "Requirement already satisfied: future in /usr/local/lib/python3.6/dist-packages (from torch->pytorch-msssim) (0.16.0)\n",
      "Requirement already satisfied: typing-extensions in /usr/local/lib/python3.6/dist-packages (from torch->pytorch-msssim) (3.7.4.3)\n",
      "Requirement already satisfied: dataclasses in /usr/local/lib/python3.6/dist-packages (from torch->pytorch-msssim) (0.7)\n",
      "Installing collected packages: pytorch-msssim\n",
      "Successfully installed pytorch-msssim-0.2.1\n"
     ]
    }
   ],
   "source": [
    "!pip install pytorch-msssim"
   ]
  },
  {
   "cell_type": "code",
   "execution_count": 3,
   "metadata": {
    "executionInfo": {
     "elapsed": 35571,
     "status": "ok",
     "timestamp": 1605702207869,
     "user": {
      "displayName": "Samuel Neumann",
      "photoUrl": "https://lh5.googleusercontent.com/-z8wyXRO6t2s/AAAAAAAAAAI/AAAAAAAAAFo/8QmqQMCE81s/s64/photo.jpg",
      "userId": "04715188440909920115"
     },
     "user_tz": 420
    },
    "id": "vt2__ji3G-Rp"
   },
   "outputs": [],
   "source": [
    "# Import Modules\n",
    "import sys\n",
    "sys.path.insert(1, \"/content/drive/My Drive/CMPUT511/Project/Code/RFDN\")\n",
    "import train\n",
    "\n",
    "from RFDN import RFDN, RFDN1, RFDN2\n",
    "from BaseN import BaseN"
   ]
  },
  {
   "cell_type": "markdown",
   "metadata": {},
   "source": [
    "## Training Loop\n",
    "\n",
    "The cells below contain the training loop. The trainer object will take in the checkpoint file, data containing directory, learning rate, and model number. It will then train the network, checkpointing and saving in the same directory that contains the argument checkpoint file. Additionally, the trainer can load in the checkpoint file and resume training.\n",
    "\n",
    "To train our networks, we use the mean $L_1$ loss, as specified in the RFDN paper:\n",
    "$$\n",
    "    \\mathcal{L}(\\theta) = \\frac{1}{N} \\sum\\limits_{i=1}^{N} || H(I_{i}^{LR}) - I_{i}^{HR} ||_{1}\n",
    "$$\n",
    "where $H$ is the hypothesis of the model being trained, $I_{i}^{LR}$ is the $i^{th}$ pixel of the low-resolution image, $I_{i}^{HR}$ is the $i^{th}$ pixel of the high resolution imgae, $\\theta$ are the model parameters, $N$ is the number of pixels in the image, and $|| \\cdot ||_1$ is the $L_1$ norm.\n",
    "\n",
    "The creation and optimization of this loss function is taken care of by the Trainer class. Additionally, we use the Adam optimizer for training, which is also created and maintained by the Trainer class."
   ]
  },
  {
   "cell_type": "code",
   "execution_count": 4,
   "metadata": {
    "executionInfo": {
     "elapsed": 44601,
     "status": "ok",
     "timestamp": 1605702216901,
     "user": {
      "displayName": "Samuel Neumann",
      "photoUrl": "https://lh5.googleusercontent.com/-z8wyXRO6t2s/AAAAAAAAAAI/AAAAAAAAAFo/8QmqQMCE81s/s64/photo.jpg",
      "userId": "04715188440909920115"
     },
     "user_tz": 420
    },
    "id": "RuQI0UwVG-Ru"
   },
   "outputs": [],
   "source": [
    "model = RFDN1(nf=10, upscale=2)\n",
    "# model = BaseN(nf=10, upscale=2)\n",
    "# model = FDCN(nf=10, upscale=2)\n",
    "# model = SRN(nf=10, upscale=2)\n",
    "data_dir = \"/content/drive/My Drive/CMPUT511/Project/Data\"\n",
    "checkpoint_file = \"/content/drive/My Drive/CMPUT511/Project/Checkpoints/checkpoint_0_1.tar\"\n",
    "trainer = train.Trainer(model, checkpoint_file, data_dir, lr=1e-2, div=1.005, num=0)"
   ]
  },
  {
   "cell_type": "code",
   "execution_count": 5,
   "metadata": {
    "colab": {
     "base_uri": "https://localhost:8080/"
    },
    "executionInfo": {
     "elapsed": 10232976,
     "status": "ok",
     "timestamp": 1605712405282,
     "user": {
      "displayName": "Samuel Neumann",
      "photoUrl": "https://lh5.googleusercontent.com/-z8wyXRO6t2s/AAAAAAAAAAI/AAAAAAAAAFo/8QmqQMCE81s/s64/photo.jpg",
      "userId": "04715188440909920115"
     },
     "user_tz": 420
    },
    "id": "7TuDao2-Q-Ry",
    "outputId": "7f9b8aa0-ca4f-46e6-8beb-e901a6d47249"
   },
   "outputs": [
    {
     "name": "stderr",
     "output_type": "stream",
     "text": [
      "100%|██████████| 800/800 [56:50<00:00,  4.26s/it]\n",
      "100%|██████████| 800/800 [02:48<00:00,  4.75it/s]\n",
      "100%|██████████| 800/800 [02:47<00:00,  4.79it/s]\n",
      "100%|██████████| 800/800 [02:47<00:00,  4.79it/s]\n",
      "100%|██████████| 800/800 [02:47<00:00,  4.78it/s]\n",
      "100%|██████████| 800/800 [02:48<00:00,  4.74it/s]\n",
      "100%|██████████| 800/800 [02:48<00:00,  4.74it/s]\n",
      "100%|██████████| 800/800 [02:48<00:00,  4.76it/s]\n",
      "100%|██████████| 800/800 [02:48<00:00,  4.75it/s]\n",
      "100%|██████████| 800/800 [02:48<00:00,  4.73it/s]\n",
      "100%|██████████| 800/800 [02:48<00:00,  4.75it/s]\n",
      "100%|██████████| 800/800 [02:49<00:00,  4.72it/s]\n",
      "100%|██████████| 800/800 [02:49<00:00,  4.73it/s]\n",
      "100%|██████████| 800/800 [02:48<00:00,  4.74it/s]\n",
      "100%|██████████| 800/800 [02:48<00:00,  4.74it/s]\n",
      "100%|██████████| 800/800 [02:49<00:00,  4.72it/s]\n",
      "100%|██████████| 800/800 [02:49<00:00,  4.73it/s]\n",
      "100%|██████████| 800/800 [02:48<00:00,  4.76it/s]\n",
      "100%|██████████| 800/800 [02:48<00:00,  4.76it/s]\n",
      "100%|██████████| 800/800 [02:48<00:00,  4.74it/s]\n",
      "100%|██████████| 800/800 [02:49<00:00,  4.71it/s]\n",
      "100%|██████████| 800/800 [02:47<00:00,  4.79it/s]\n",
      "100%|██████████| 800/800 [02:47<00:00,  4.77it/s]\n",
      "100%|██████████| 800/800 [02:49<00:00,  4.72it/s]\n",
      "100%|██████████| 800/800 [02:48<00:00,  4.76it/s]\n",
      "100%|██████████| 800/800 [02:50<00:00,  4.69it/s]\n",
      "100%|██████████| 800/800 [02:50<00:00,  4.70it/s]\n",
      "100%|██████████| 800/800 [02:49<00:00,  4.71it/s]\n",
      "100%|██████████| 800/800 [02:49<00:00,  4.73it/s]\n",
      "100%|██████████| 800/800 [02:49<00:00,  4.71it/s]\n",
      "100%|██████████| 800/800 [02:49<00:00,  4.73it/s]\n",
      "100%|██████████| 800/800 [02:52<00:00,  4.64it/s]\n",
      "100%|██████████| 800/800 [02:52<00:00,  4.64it/s]\n",
      "100%|██████████| 800/800 [02:52<00:00,  4.64it/s]\n",
      "100%|██████████| 800/800 [02:52<00:00,  4.63it/s]\n",
      "100%|██████████| 800/800 [02:52<00:00,  4.65it/s]\n",
      "100%|██████████| 800/800 [02:50<00:00,  4.70it/s]\n",
      "100%|██████████| 800/800 [02:41<00:00,  4.96it/s]\n",
      "100%|██████████| 800/800 [02:41<00:00,  4.95it/s]\n",
      "100%|██████████| 800/800 [02:42<00:00,  4.92it/s]\n"
     ]
    }
   ],
   "source": [
    "trainer.train(40, load=False)"
   ]
  }
 ],
 "metadata": {
  "accelerator": "GPU",
  "colab": {
   "collapsed_sections": [],
   "name": "train.ipynb",
   "provenance": []
  },
  "kernelspec": {
   "display_name": "Python 3",
   "language": "python",
   "name": "python3"
  },
  "language_info": {
   "codemirror_mode": {
    "name": "ipython",
    "version": 3
   },
   "file_extension": ".py",
   "mimetype": "text/x-python",
   "name": "python",
   "nbconvert_exporter": "python",
   "pygments_lexer": "ipython3",
   "version": "3.8.6"
  }
 },
 "nbformat": 4,
 "nbformat_minor": 1
}
