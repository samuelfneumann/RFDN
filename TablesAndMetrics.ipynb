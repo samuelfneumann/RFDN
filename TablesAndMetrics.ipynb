{
 "metadata": {
  "language_info": {
   "codemirror_mode": {
    "name": "ipython",
    "version": 3
   },
   "file_extension": ".py",
   "mimetype": "text/x-python",
   "name": "python",
   "nbconvert_exporter": "python",
   "pygments_lexer": "ipython3",
   "version": "3.8.6-final"
  },
  "orig_nbformat": 2,
  "kernelspec": {
   "name": "python38264bit783e9ce075cd40329148adbd3d4f11dd",
   "display_name": "Python 3.8.2 64-bit"
  }
 },
 "nbformat": 4,
 "nbformat_minor": 2,
 "cells": [
  {
   "source": [
    "# About this File\n",
    "\n",
    "In this file, we generate some useful data for tables and statistical significance tests. We also generate PSNR/SSIM values for interpolation techniques in order to compare the results with those of the RFDN and RFDN1 networks. We also generate individual PSNR and SSIM values in order to compare between trained networks."
   ],
   "cell_type": "markdown",
   "metadata": {}
  },
  {
   "cell_type": "code",
   "execution_count": 1,
   "metadata": {},
   "outputs": [],
   "source": [
    "# Import modules\n",
    "from interpolation import Interpolate\n",
    "from evaluate import Evaluate\n",
    "from RFDN import RFDN, RFDN1\n",
    "import numpy as np\n",
    "from compare import t_test, Compare"
   ]
  },
  {
   "source": [
    "# Preliminaries\n",
    "\n",
    "Here, we set up some variables to be used throughout the notebook"
   ],
   "cell_type": "markdown",
   "metadata": {}
  },
  {
   "cell_type": "code",
   "execution_count": 2,
   "metadata": {},
   "outputs": [],
   "source": [
    "model1 = RFDN1(nf=10, upscale=2)\n",
    "model2 = RFDN(nf=10, upscale=2)\n",
    "\n",
    "data_dir = \"/home/samuel/Documents/CMPUT511/Project/Data\"\n",
    "\n",
    "checkpoint_dir1 = \"/home/samuel/Documents/CMPUT511/Project/Checkpoints/AvgLearningCurve/RFDN1\"\n",
    "checkpoint_dir2 = \"/home/samuel/Documents/CMPUT511/Project/Checkpoints/AvgLearningCurve/RFDN\"\n",
    "\n",
    "checkpoint_file1 = \"/home/samuel/Documents/CMPUT511/Project/Checkpoints/AvgLearningCurve/RFDN1/checkpoint_2_40.tar\"\n",
    "checkpoint_file2 = \"/home/samuel/Documents/CMPUT511/Project/Checkpoints/AvgLearningCurve/RFDN/checkpoint_2_40.tar\""
   ]
  },
  {
   "source": [
    "# Calculate PSNR and SSIM for Image Interpolations"
   ],
   "cell_type": "markdown",
   "metadata": {}
  },
  {
   "cell_type": "code",
   "execution_count": 3,
   "metadata": {},
   "outputs": [
    {
     "output_type": "stream",
     "name": "stderr",
     "text": [
      "100%|██████████| 100/100 [02:10<00:00,  1.30s/it]Average PSNR: 6.613131931362553\n",
      "Average SSIM: 0.027344164001678554\n",
      "\n"
     ]
    }
   ],
   "source": [
    "    interp = Interpolate(data_dir)\n",
    "\n",
    "    psnr, ssim_ = interp.calculate_values()\n",
    "\n",
    "    avg_psnr = np.mean(psnr)\n",
    "    avg_ssim = np.mean(ssim_)\n",
    "\n",
    "    print(f\"Average PSNR: {avg_psnr}\")\n",
    "    print(f\"Average SSIM: {avg_ssim}\")"
   ]
  },
  {
   "source": [
    "# Evaluation metrics such as average PSNR, SSIM, Inference Time, and Number of Parameters for different networks"
   ],
   "cell_type": "markdown",
   "metadata": {}
  },
  {
   "cell_type": "code",
   "execution_count": 4,
   "metadata": {},
   "outputs": [],
   "source": [
    "e = Evaluate(model1, checkpoint_file1, data_dir)"
   ]
  },
  {
   "cell_type": "code",
   "execution_count": 5,
   "metadata": {},
   "outputs": [
    {
     "output_type": "stream",
     "name": "stderr",
     "text": [
      "100%|██████████| 100/100 [01:46<00:00,  1.07s/it]Average PSNR:              32.6316584421872\n",
      "Average SSIM:              0.9209140539169312\n",
      "Average Inference Time:    0.09533118963241577\n",
      "Number of parameters:      9652\n",
      "\n"
     ]
    }
   ],
   "source": [
    "values = e.get_values()\n",
    "psnr = np.mean(values[\"psnr\"])\n",
    "ssim = np.mean(values[\"ssim\"])\n",
    "time = np.mean(values[\"times\"])\n",
    "params = sum(param.numel() for param in model1.parameters())\n",
    "print(f\"Average PSNR:              {psnr}\")\n",
    "print(f\"Average SSIM:              {ssim}\")\n",
    "print(f\"Average Inference Time:    {time}\")\n",
    "print(f\"Number of parameters:      {params}\")"
   ]
  },
  {
   "source": [
    "# Statistical Significant Tests for RFDN and RFDN1"
   ],
   "cell_type": "markdown",
   "metadata": {}
  },
  {
   "cell_type": "code",
   "execution_count": 6,
   "metadata": {},
   "outputs": [
    {
     "output_type": "stream",
     "name": "stdout",
     "text": [
      "P-value for PSNR: 0.15422987536059868\nP-value for SSIM: 0.24082446630607615\nP-value for Loss: 0.05905154873981436\n"
     ]
    }
   ],
   "source": [
    "p_psnr = t_test(checkpoint_dir1, checkpoint_dir2, \"psnr\")\n",
    "p_ssim = t_test(checkpoint_dir1, checkpoint_dir2, \"ssim\")\n",
    "\n",
    "print(f\"P-value for PSNR: {p_psnr}\")\n",
    "print(f\"P-value for SSIM: {p_ssim}\")"
   ]
  },
  {
   "source": [
    "# PSNR and SSIM Values for Comparing Individual Networks"
   ],
   "cell_type": "markdown",
   "metadata": {}
  },
  {
   "cell_type": "code",
   "execution_count": 7,
   "metadata": {},
   "outputs": [],
   "source": [
    "comp = Compare(model1, model2, checkpoint_file1, checkpoint_file2, data_dir)"
   ]
  },
  {
   "cell_type": "code",
   "execution_count": 8,
   "metadata": {},
   "outputs": [
    {
     "output_type": "stream",
     "name": "stderr",
     "text": [
      "100%|██████████| 100/100 [04:32<00:00,  2.73s/it]\n"
     ]
    }
   ],
   "source": [
    "values = comp.get_values()\n",
    "\n",
    "psnr1 = np.mean(values[\"psnr\"][\"model1\"])\n",
    "psnr2 = np.mean(values[\"psnr\"][\"model2\"])\n",
    "ssim1 = np.mean(values[\"ssim\"][\"model1\"])\n",
    "ssim2 = np.mean(values[\"ssim\"][\"model2\"])\n",
    "times1 = np.mean(values[\"times\"][\"model1\"])\n",
    "times2 = np.mean(values[\"times\"][\"model2\"])"
   ]
  },
  {
   "cell_type": "code",
   "execution_count": 9,
   "metadata": {},
   "outputs": [
    {
     "output_type": "stream",
     "name": "stdout",
     "text": [
      "Average inference PSNR for model 1 (RFDN1): 32.6316584421872\nAverage inference PSNR for model 2 (RFDN1): 33.41725744285075\n\nAverage inference SSIM for model 1 (RFDN1): 0.9209140539169312\nAverage inference SSIM for model 2 (RFDN1): 0.927844226360321\n\nAverage inference time for model 1 (RFDN1): 0.0988073468208313\nAverage inference time for model 2 (RFDN1): 0.1525200605392456\n"
     ]
    }
   ],
   "source": [
    "print(f\"Average inference PSNR for model 1 ({str(model1)}): {psnr1}\")\n",
    "print(f\"Average inference PSNR for model 2 ({str(model1)}): {psnr2}\\n\")\n",
    "print(f\"Average inference SSIM for model 1 ({str(model1)}): {ssim1}\")\n",
    "print(f\"Average inference SSIM for model 2 ({str(model1)}): {ssim2}\\n\")\n",
    "print(f\"Average inference time for model 1 ({str(model1)}): {times1}\")\n",
    "print(f\"Average inference time for model 2 ({str(model1)}): {times2}\")"
   ]
  }
 ]
}